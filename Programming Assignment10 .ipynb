{
 "cells": [
  {
   "cell_type": "markdown",
   "id": "6ff7e120",
   "metadata": {},
   "source": [
    "#### 1. Write a Python program to find sum of elements in list?"
   ]
  },
  {
   "cell_type": "code",
   "execution_count": 1,
   "id": "7bc1f625",
   "metadata": {},
   "outputs": [],
   "source": [
    "l1 = [1,2,3,4,5,6,7]\n",
    "sum = 0\n",
    "for i in l1:\n",
    "    sum = int(i)+sum"
   ]
  },
  {
   "cell_type": "code",
   "execution_count": 2,
   "id": "f9bc1101",
   "metadata": {},
   "outputs": [
    {
     "data": {
      "text/plain": [
       "28"
      ]
     },
     "execution_count": 2,
     "metadata": {},
     "output_type": "execute_result"
    }
   ],
   "source": [
    "sum"
   ]
  },
  {
   "cell_type": "markdown",
   "id": "d2e33de6",
   "metadata": {},
   "source": [
    "#### Write a Python program to Multiply all numbers in the list?"
   ]
  },
  {
   "cell_type": "code",
   "execution_count": 3,
   "id": "8bf87619",
   "metadata": {},
   "outputs": [],
   "source": [
    "l2 = [1,2,3,4,5,6,7]\n",
    "mul = 1\n",
    "for i in l2:\n",
    "    mul = i*mul\n",
    "    "
   ]
  },
  {
   "cell_type": "code",
   "execution_count": 4,
   "id": "35ce32c8",
   "metadata": {},
   "outputs": [
    {
     "name": "stdout",
     "output_type": "stream",
     "text": [
      "5040\n"
     ]
    }
   ],
   "source": [
    "print(mul)"
   ]
  },
  {
   "cell_type": "markdown",
   "id": "f91084a7",
   "metadata": {},
   "source": [
    "#### Write a Python program to find smallest number in a list?"
   ]
  },
  {
   "cell_type": "code",
   "execution_count": 5,
   "id": "6d21a7e5",
   "metadata": {},
   "outputs": [
    {
     "name": "stdout",
     "output_type": "stream",
     "text": [
      "1\n"
     ]
    }
   ],
   "source": [
    "l3 = [1,2,3,4,5,6,7]\n",
    "for i in l2:\n",
    "    print(min(l3))\n",
    "    break"
   ]
  },
  {
   "cell_type": "markdown",
   "id": "2cee0325",
   "metadata": {},
   "source": [
    "### Write a Python program to find largest number in a list?"
   ]
  },
  {
   "cell_type": "code",
   "execution_count": 6,
   "id": "a10064cf",
   "metadata": {},
   "outputs": [
    {
     "name": "stdout",
     "output_type": "stream",
     "text": [
      "3456346\n"
     ]
    }
   ],
   "source": [
    "l4 = [2,343,5345,345345,3456346,3456]\n",
    "for i in l4:\n",
    "    print(max(l4))\n",
    "    break\n",
    "    "
   ]
  },
  {
   "cell_type": "markdown",
   "id": "afa1810e",
   "metadata": {},
   "source": [
    "### Write a Python program to find second largest number in a list?"
   ]
  },
  {
   "cell_type": "code",
   "execution_count": 7,
   "id": "fd2fa33f",
   "metadata": {},
   "outputs": [
    {
     "name": "stdout",
     "output_type": "stream",
     "text": [
      "2342345\n"
     ]
    }
   ],
   "source": [
    "l5 = [2,343,5345,345345,3456346,3456,2342345]\n",
    "print(sorted(l5)[-2])"
   ]
  },
  {
   "cell_type": "markdown",
   "id": "448a0981",
   "metadata": {},
   "source": [
    "### Write a Python program to find N largest elements from a list?"
   ]
  },
  {
   "cell_type": "code",
   "execution_count": 8,
   "id": "31cefb38",
   "metadata": {},
   "outputs": [],
   "source": [
    "def N_largest_number_from_list(b):\n",
    "    for i in b:\n",
    "         return max(b)"
   ]
  },
  {
   "cell_type": "code",
   "execution_count": 9,
   "id": "64d16c40",
   "metadata": {},
   "outputs": [
    {
     "data": {
      "text/plain": [
       "3456346"
      ]
     },
     "execution_count": 9,
     "metadata": {},
     "output_type": "execute_result"
    }
   ],
   "source": [
    "N_largest_number_from_list(b=[2,343,5345,345345,3456346,3456,2342345])"
   ]
  },
  {
   "cell_type": "markdown",
   "id": "a9e2ba15",
   "metadata": {},
   "source": [
    "### Write a Python program to print even numbers in a list?"
   ]
  },
  {
   "cell_type": "code",
   "execution_count": 10,
   "id": "864daf0a",
   "metadata": {},
   "outputs": [],
   "source": [
    "l2 = []\n",
    "def EVEN_NUMBER_LIST(c):\n",
    "    for i in c:\n",
    "        if i%2 == 0:\n",
    "            l2.append(i)\n",
    "            \n",
    "    return l2\n",
    "           \n",
    "\n",
    "        "
   ]
  },
  {
   "cell_type": "code",
   "execution_count": 11,
   "id": "d0f25c57",
   "metadata": {},
   "outputs": [
    {
     "data": {
      "text/plain": [
       "[2, 4, 6, 22, 2, 44, 6]"
      ]
     },
     "execution_count": 11,
     "metadata": {},
     "output_type": "execute_result"
    }
   ],
   "source": [
    "EVEN_NUMBER_LIST([2,3,4,5,5,5,6,1,22,2,44,6])"
   ]
  },
  {
   "cell_type": "code",
   "execution_count": 12,
   "id": "95681368",
   "metadata": {},
   "outputs": [
    {
     "data": {
      "text/plain": [
       "[2, 4, 6, 22, 2, 44, 6]"
      ]
     },
     "execution_count": 12,
     "metadata": {},
     "output_type": "execute_result"
    }
   ],
   "source": [
    "l2"
   ]
  },
  {
   "cell_type": "markdown",
   "id": "b023a3de",
   "metadata": {},
   "source": [
    "### Write a Python program to print odd numbers in a List?"
   ]
  },
  {
   "cell_type": "code",
   "execution_count": 16,
   "id": "1c78ea57",
   "metadata": {},
   "outputs": [],
   "source": [
    "l3 = []\n",
    "def odd_NUMBER_LIST(c):\n",
    "    for i in c:\n",
    "        if i%2 != 0:\n",
    "            l3.append(i)\n",
    "            \n",
    "    return l3\n",
    "           "
   ]
  },
  {
   "cell_type": "code",
   "execution_count": 17,
   "id": "272812e6",
   "metadata": {},
   "outputs": [
    {
     "data": {
      "text/plain": [
       "[3, 5, 5, 5, 1]"
      ]
     },
     "execution_count": 17,
     "metadata": {},
     "output_type": "execute_result"
    }
   ],
   "source": [
    "odd_NUMBER_LIST([2,3,4,5,5,5,6,1,22,2,44,6])"
   ]
  },
  {
   "cell_type": "markdown",
   "id": "0fae1654",
   "metadata": {},
   "source": [
    "### Write a Python program to Remove empty List from List?"
   ]
  },
  {
   "cell_type": "code",
   "execution_count": 15,
   "id": "2fe3fe1b",
   "metadata": {},
   "outputs": [
    {
     "name": "stdout",
     "output_type": "stream",
     "text": [
      "Original_list is: [5, 6, 7, [], 7, [], 9, [], 10, []]\n",
      "list after empty list removal: [5, 6, 7, 7, 9, 10]\n"
     ]
    }
   ],
   "source": [
    "remove_empty  = [5,6,7,[],7,[],9,[],10,[]]\n",
    "print(\"Original_list is:\",remove_empty)\n",
    "cleaned_list = list(filter(None,remove_empty))\n",
    "print(\"list after empty list removal:\",str(cleaned_list))\n"
   ]
  },
  {
   "cell_type": "markdown",
   "id": "c72b9442",
   "metadata": {},
   "source": [
    "### Write a Python program to Cloning or Copying a list?  "
   ]
  },
  {
   "cell_type": "code",
   "execution_count": 55,
   "id": "b43437db",
   "metadata": {},
   "outputs": [],
   "source": [
    "copied_list = []\n",
    "def list_new(a): \n",
    "    return copied_list.append(a)"
   ]
  },
  {
   "cell_type": "code",
   "execution_count": 56,
   "id": "ef364ffa",
   "metadata": {},
   "outputs": [],
   "source": [
    "list_new([1,2,3,3,4,5,6,7,8,9,10,11,12,13,14])"
   ]
  },
  {
   "cell_type": "code",
   "execution_count": 57,
   "id": "c78cfe67",
   "metadata": {},
   "outputs": [
    {
     "data": {
      "text/plain": [
       "[[1, 2, 3, 3, 4, 5, 6, 7, 8, 9, 10, 11, 12, 13, 14]]"
      ]
     },
     "execution_count": 57,
     "metadata": {},
     "output_type": "execute_result"
    }
   ],
   "source": [
    "copied_list"
   ]
  },
  {
   "cell_type": "markdown",
   "id": "84a9ef0c",
   "metadata": {},
   "source": [
    "### Write a Python program to Count occurrences of an element in a list?"
   ]
  },
  {
   "cell_type": "code",
   "execution_count": 58,
   "id": "60064c1c",
   "metadata": {},
   "outputs": [
    {
     "name": "stdout",
     "output_type": "stream",
     "text": [
      "Enter the elements of the list: 1,23,44,44,5,6,6,7,777,888,10\n",
      "Enter the element to find: 44\n",
      "There are 2 occurences of 44 in (1, 23, 44, 44, 5, 6, 6, 7, 777, 888, 10)\n"
     ]
    }
   ],
   "source": [
    "def checkOccurence():\n",
    "    in_list = eval(input('Enter the elements of the list: '))\n",
    "    in_num = eval(input('Enter the element to find: '))\n",
    "    count = 0\n",
    "    if in_num in in_list:\n",
    "        for ele in in_list:\n",
    "            if ele == in_num:\n",
    "                count = count+1\n",
    "    print(f'There are {count} occurences of {in_num} in {in_list}')\n",
    "    \n",
    "checkOccurence()"
   ]
  },
  {
   "cell_type": "code",
   "execution_count": null,
   "id": "d0316966",
   "metadata": {},
   "outputs": [],
   "source": []
  },
  {
   "cell_type": "code",
   "execution_count": null,
   "id": "774f1d4d",
   "metadata": {},
   "outputs": [],
   "source": []
  },
  {
   "cell_type": "code",
   "execution_count": null,
   "id": "8a7c7307",
   "metadata": {},
   "outputs": [],
   "source": []
  },
  {
   "cell_type": "code",
   "execution_count": null,
   "id": "284b1438",
   "metadata": {},
   "outputs": [],
   "source": []
  },
  {
   "cell_type": "code",
   "execution_count": null,
   "id": "509ad0be",
   "metadata": {},
   "outputs": [],
   "source": []
  },
  {
   "cell_type": "code",
   "execution_count": null,
   "id": "5ca059b0",
   "metadata": {},
   "outputs": [],
   "source": []
  },
  {
   "cell_type": "code",
   "execution_count": null,
   "id": "6864fac5",
   "metadata": {},
   "outputs": [],
   "source": []
  }
 ],
 "metadata": {
  "kernelspec": {
   "display_name": "Python 3 (ipykernel)",
   "language": "python",
   "name": "python3"
  },
  "language_info": {
   "codemirror_mode": {
    "name": "ipython",
    "version": 3
   },
   "file_extension": ".py",
   "mimetype": "text/x-python",
   "name": "python",
   "nbconvert_exporter": "python",
   "pygments_lexer": "ipython3",
   "version": "3.9.13"
  }
 },
 "nbformat": 4,
 "nbformat_minor": 5
}
